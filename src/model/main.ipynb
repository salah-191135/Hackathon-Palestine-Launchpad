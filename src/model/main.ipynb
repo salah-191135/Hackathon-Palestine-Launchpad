{
 "cells": [
  {
   "cell_type": "code",
   "execution_count": 2,
   "metadata": {},
   "outputs": [
    {
     "name": "stdout",
     "output_type": "stream",
     "text": [
      "🔍 Checking Missing Values:\n",
      "course_id                 0\n",
      "userid_DI                 0\n",
      "registered                0\n",
      "viewed                    0\n",
      "explored                  0\n",
      "certified                 0\n",
      "final_cc_cname_DI         0\n",
      "LoE_DI                44119\n",
      "YoB                   38504\n",
      "gender                32961\n",
      "grade                 25890\n",
      "start_time_DI             0\n",
      "last_event_DI        152231\n",
      "nevents              159278\n",
      "ndays_act            142510\n",
      "nplay_video          304946\n",
      "nchapters            144465\n",
      "nforum_posts              0\n",
      "roles                338223\n",
      "incomplete_flag      260838\n",
      "dtype: int64\n"
     ]
    }
   ],
   "source": [
    "import pandas as pd\n",
    "import numpy as np\n",
    "\n",
    "# Load the dataset\n",
    "data = pd.read_csv(\"system-data.csv\")\n",
    "\n",
    "# Display basic info\n",
    "print(\"🔍 Checking Missing Values:\")\n",
    "print(data.isnull().sum())"
   ]
  },
  {
   "cell_type": "code",
   "execution_count": 3,
   "metadata": {},
   "outputs": [],
   "source": [
    "user_data = data[[\"userid_DI\", \"gender\", \"LoE_DI\", \"YoB\"]].drop_duplicates()"
   ]
  },
  {
   "cell_type": "code",
   "execution_count": 4,
   "metadata": {},
   "outputs": [],
   "source": [
    "# Define mapping for courses to fields of study\n",
    "course_field_mapping = {\n",
    "    \"CB22x\": \"Humanities\",\n",
    "    \"ER22x\": \"Humanities\",\n",
    "    \"CS50x\": \"Computer Science\",\n",
    "    \"PH207x\": \"Health\",\n",
    "    \"PH278x\": \"Health\",\n",
    "}\n",
    "\n",
    "# Extract the course code and map to a field of study\n",
    "data[\"course_code\"] = data[\"course_id\"].apply(lambda x: x.split(\"/\")[1])  # Extract course code\n",
    "data[\"field_of_study\"] = data[\"course_code\"].map(course_field_mapping)\n"
   ]
  },
  {
   "cell_type": "code",
   "execution_count": 5,
   "metadata": {},
   "outputs": [],
   "source": [
    "# Fill missing values correctly\n",
    "data.loc[:, \"LoE_DI\"] = data[\"LoE_DI\"].fillna(data[\"LoE_DI\"].mode()[0])\n",
    "data.loc[:, \"YoB\"] = data[\"YoB\"].fillna(data[\"YoB\"].median())\n",
    "data.loc[:, \"gender\"] = data[\"gender\"].fillna(\"unknown\")"
   ]
  },
  {
   "cell_type": "code",
   "execution_count": 6,
   "metadata": {},
   "outputs": [],
   "source": [
    "education_mapping = {'Less than Secondary': 0, 'Secondary': 1, \"Bachelor's\": 2, \"Master's\": 3, \"Doctorate\": 4}\n",
    "data[\"LoE_DI\"] = data[\"LoE_DI\"].map(education_mapping)\n",
    "\n",
    "gender_mapping = {\"m\": 0, \"f\": 1, \"o\": 2, \"unknown\": 3}\n",
    "data[\"gender\"] = data[\"gender\"].map(gender_mapping)\n",
    "\n",
    "from sklearn.preprocessing import LabelEncoder\n",
    "\n",
    "le_course = LabelEncoder()\n",
    "data[\"course_id_enc\"] = le_course.fit_transform(data[\"course_id\"])"
   ]
  },
  {
   "cell_type": "code",
   "execution_count": 7,
   "metadata": {},
   "outputs": [],
   "source": [
    "from sklearn.preprocessing import LabelEncoder\n",
    "\n",
    "# Encode categorical features\n",
    "le_gender = LabelEncoder()\n",
    "le_edu = LabelEncoder()\n",
    "le_field = LabelEncoder()\n",
    "\n",
    "data[\"gender_enc\"] = le_gender.fit_transform(data[\"gender\"])\n",
    "data[\"LoE_DI_enc\"] = le_edu.fit_transform(data[\"LoE_DI\"])\n",
    "data[\"field_of_study_enc\"] = le_field.fit_transform(data[\"field_of_study\"])\n"
   ]
  },
  {
   "cell_type": "code",
   "execution_count": 9,
   "metadata": {},
   "outputs": [
    {
     "name": "stdout",
     "output_type": "stream",
     "text": [
      "✅ Train Shape: (270578, 4), Validation Shape: (67645, 4)\n"
     ]
    }
   ],
   "source": [
    "from sklearn.model_selection import train_test_split\n",
    "from sklearn.metrics import accuracy_score, classification_report\n",
    "from sklearn.preprocessing import LabelEncoder\n",
    "\n",
    "# ----------------------------\n",
    "# Step 1: Encode `course_id` if not already done\n",
    "# ----------------------------\n",
    "# Check if 'course_id_enc' exists; if not, create it\n",
    "if 'course_id_enc' not in data.columns:\n",
    "    le_course = LabelEncoder()\n",
    "    data['course_id_enc'] = le_course.fit_transform(data['course_id'])\n",
    "\n",
    "# ----------------------------\n",
    "# Step 2: Prepare Data\n",
    "# ----------------------------\n",
    "# Features (X) and Target (y)\n",
    "X = data[['LoE_DI_enc', 'YoB', 'gender_enc', 'field_of_study_enc']]\n",
    "y = data['course_id_enc']  # Use the encoded course IDs\n",
    "# Split train data into training & validation (80% train, 20% validation)\n",
    "# Split dataset into 80% training, 20% validation\n",
    "X_train, X_val, y_train, y_val = train_test_split(X, y, test_size=0.2, random_state=42)\n",
    "\n",
    "print(f\"✅ Train Shape: {X_train.shape}, Validation Shape: {X_val.shape}\")"
   ]
  },
  {
   "cell_type": "code",
   "execution_count": 24,
   "metadata": {},
   "outputs": [
    {
     "name": "stdout",
     "output_type": "stream",
     "text": [
      "[LightGBM] [Info] Auto-choosing row-wise multi-threading, the overhead of testing was 0.003648 seconds.\n",
      "You can set `force_row_wise=true` to remove the overhead.\n",
      "And if memory is not enough, you can set `force_col_wise=true`.\n",
      "[LightGBM] [Info] Total Bins 89\n",
      "[LightGBM] [Info] Number of data points in the train set: 270578, number of used features: 4\n",
      "[LightGBM] [Info] Start training from score -2.422548\n",
      "[LightGBM] [Info] Start training from score -0.689915\n",
      "[LightGBM] [Info] Start training from score -1.773007\n",
      "[LightGBM] [Info] Start training from score -2.098221\n",
      "[LightGBM] [Info] Start training from score -2.143960\n",
      "[LightGBM] [Warning] No further splits with positive gain, best gain: -inf\n"
     ]
    }
   ],
   "source": [
    "import lightgbm as lgb\n",
    "\n",
    "# Create the model\n",
    "lgb_model = lgb.LGBMClassifier(\n",
    "    boosting_type='gbdt',\n",
    "    num_leaves=31,\n",
    "    max_depth=-1,\n",
    "    learning_rate=0.1,\n",
    "    n_estimators=300,\n",
    "    random_state=42\n",
    ")\n",
    "\n",
    "# Train LightGBM\n",
    "lgb_model = lgb.LGBMClassifier(n_estimators=200, learning_rate=0.05, random_state=42)\n",
    "lgb_model.fit(X_train, y_train)\n",
    "\n",
    "# Make Predictions\n",
    "y_pred = lgb_model.predict(X_val)"
   ]
  },
  {
   "cell_type": "code",
   "execution_count": 25,
   "metadata": {},
   "outputs": [
    {
     "name": "stdout",
     "output_type": "stream",
     "text": [
      "Accuracy: 81.11%\n"
     ]
    }
   ],
   "source": [
    "from sklearn.metrics import accuracy_score\n",
    "\n",
    "# Assuming you have the true labels (y_true) and predicted labels (y_pred)\n",
    "accuracy = accuracy_score(y_val, y_pred)\n",
    "print(f'Accuracy: {accuracy * 100:.2f}%')\n"
   ]
  },
  {
   "cell_type": "code",
   "execution_count": 26,
   "metadata": {},
   "outputs": [
    {
     "name": "stdout",
     "output_type": "stream",
     "text": [
      "📊 Classification Report:\n",
      "              precision    recall  f1-score   support\n",
      "\n",
      "           0       0.47      0.03      0.05      6003\n",
      "           1       1.00      1.00      1.00     33894\n",
      "           2       0.66      0.98      0.79     11456\n",
      "           3       0.60      0.60      0.60      8399\n",
      "           4       0.57      0.57      0.57      7893\n",
      "\n",
      "    accuracy                           0.81     67645\n",
      "   macro avg       0.66      0.64      0.60     67645\n",
      "weighted avg       0.80      0.81      0.78     67645\n",
      "\n"
     ]
    }
   ],
   "source": [
    "from sklearn.metrics import classification_report\n",
    "\n",
    "print(\"📊 Classification Report:\")\n",
    "print(classification_report(y_val, y_pred))"
   ]
  },
  {
   "cell_type": "code",
   "execution_count": 27,
   "metadata": {},
   "outputs": [
    {
     "data": {
      "image/png": "[encoded data removed]",
      "text/plain": [
       "<Figure size 800x600 with 2 Axes>"
      ]
     },
     "metadata": {},
     "output_type": "display_data"
    }
   ],
   "source": [
    "from sklearn.metrics import confusion_matrix\n",
    "import seaborn as sns\n",
    "import matplotlib.pyplot as plt\n",
    "\n",
    "# Compute Confusion Matrix\n",
    "cm = confusion_matrix(y_val, y_pred)\n",
    "\n",
    "# Plot Confusion Matrix\n",
    "plt.figure(figsize=(8, 6))\n",
    "sns.heatmap(cm, annot=True, fmt=\"d\", cmap=\"Blues\")\n",
    "plt.xlabel(\"Predicted Course\")\n",
    "plt.ylabel(\"Actual Course\")\n",
    "plt.title(\"Confusion Matrix\")\n",
    "plt.show()"
   ]
  },
  {
   "cell_type": "code",
   "execution_count": 28,
   "metadata": {},
   "outputs": [
    {
     "name": "stdout",
     "output_type": "stream",
     "text": [
      "✅ Model Saved Successfully!\n"
     ]
    }
   ],
   "source": [
    "import joblib\n",
    "\n",
    "# Save Model\n",
    "joblib.dump(lgb_model, \"course_recommendation_model.pkl\")\n",
    "print(\"✅ Model Saved Successfully!\")"
   ]
  }
 ],
 "metadata": {
  "kernelspec": {
   "display_name": "Python 3",
   "language": "python",
   "name": "python3"
  },
  "language_info": {
   "codemirror_mode": {
    "name": "ipython",
    "version": 3
   },
   "file_extension": ".py",
   "mimetype": "text/x-python",
   "name": "python",
   "nbconvert_exporter": "python",
   "pygments_lexer": "ipython3",
   "version": "3.11.9"
  }
 },
 "nbformat": 4,
 "nbformat_minor": 2
}
