{
 "cells": [
  {
   "cell_type": "code",
   "execution_count": null,
   "metadata": {},
   "outputs": [
    {
     "name": "stdout",
     "output_type": "stream",
     "text": [
      "🔍 Checking Missing Values:\n",
      "course_id                 0\n",
      "userid_DI                 0\n",
      "registered                0\n",
      "viewed                    0\n",
      "explored                  0\n",
      "certified                 0\n",
      "final_cc_cname_DI         0\n",
      "LoE_DI                44119\n",
      "YoB                   38504\n",
      "gender                32961\n",
      "grade                 25890\n",
      "start_time_DI             0\n",
      "last_event_DI        152231\n",
      "nevents              159278\n",
      "ndays_act            142510\n",
      "nplay_video          304946\n",
      "nchapters            144465\n",
      "nforum_posts              0\n",
      "roles                338223\n",
      "incomplete_flag      260838\n",
      "dtype: int64\n",
      "\n",
      "📌 Sample Data:\n",
      "                    course_id       userid_DI  registered  viewed  explored  \\\n",
      "0  HarvardX/CB22x/2013_Spring  MHxPC130442623           1       0         0   \n",
      "1  HarvardX/CB22x/2013_Spring  MHxPC130275857           1       0         0   \n",
      "2  HarvardX/CB22x/2013_Spring  MHxPC130539455           1       1         0   \n",
      "3  HarvardX/CB22x/2013_Spring  MHxPC130088379           1       1         0   \n",
      "4  HarvardX/CB22x/2013_Spring  MHxPC130024894           1       1         0   \n",
      "\n",
      "   certified final_cc_cname_DI LoE_DI  YoB gender grade start_time_DI  \\\n",
      "0          0     United States    NaN  NaN    NaN     0      12/19/12   \n",
      "1          0     United States    NaN  NaN    NaN     0        2/8/13   \n",
      "2          0            France    NaN  NaN    NaN     0        1/1/13   \n",
      "3          0     United States    NaN  NaN    NaN     0       2/18/13   \n",
      "4          0     United States    NaN  NaN    NaN  0.07       1/24/13   \n",
      "\n",
      "  last_event_DI  nevents  ndays_act  nplay_video  nchapters  nforum_posts  \\\n",
      "0      11/17/13      NaN        9.0          NaN        NaN             0   \n",
      "1      11/17/13      NaN       16.0          NaN        NaN             0   \n",
      "2       5/14/13     42.0        6.0          NaN        3.0             0   \n",
      "3       3/17/13     70.0        3.0          NaN        3.0             0   \n",
      "4        8/3/13    175.0        9.0          NaN        7.0             0   \n",
      "\n",
      "   roles  incomplete_flag  \n",
      "0    NaN              1.0  \n",
      "1    NaN              1.0  \n",
      "2    NaN              NaN  \n",
      "3    NaN              NaN  \n",
      "4    NaN              NaN  \n"
     ]
    }
   ],
   "source": [
    "import pandas as pd\n",
    "import numpy as np\n",
    "import sklearn \n",
    "data = pd.read_csv(\"system-data.csv\")\n",
    "\n",
    "print(\"🔍 Checking Missing Values:\")\n",
    "print(data.isnull().sum())\n",
    "\n",
    "print(\"\\n📌 Sample Data:\")\n",
    "print(data.head())"
   ]
  },
  {
   "cell_type": "code",
   "execution_count": 7,
   "metadata": {},
   "outputs": [],
   "source": [
    "user_data = data[[\"userid_DI\", \"gender\", \"LoE_DI\", \"YoB\"]].drop_duplicates()"
   ]
  },
  {
   "cell_type": "code",
   "execution_count": 8,
   "metadata": {},
   "outputs": [],
   "source": [
    "course_field_mapping = {\n",
    "    \"CB22x\": \"Humanities\",\n",
    "    \"ER22x\": \"Humanities\",\n",
    "    \"CS50x\": \"Computer Science\",\n",
    "    \"PH207x\": \"Health\",\n",
    "    \"PH278x\": \"Health\",\n",
    "}\n",
    "\n",
    "# Extract the course code and map to a field of study\n",
    "data[\"course_code\"] = data[\"course_id\"].apply(lambda x: x.split(\"/\")[1])  # Extract course code\n",
    "data[\"field_of_study\"] = data[\"course_code\"].map(course_field_mapping)\n"
   ]
  },
  {
   "cell_type": "code",
   "execution_count": null,
   "metadata": {},
   "outputs": [],
   "source": []
  },
  {
   "cell_type": "code",
   "execution_count": 9,
   "metadata": {},
   "outputs": [],
   "source": [
    "# Fill missing values correctly\n",
    "data.loc[:, \"LoE_DI\"] = data[\"LoE_DI\"].fillna(data[\"LoE_DI\"].mode()[0])\n",
    "data.loc[:, \"YoB\"] = data[\"YoB\"].fillna(data[\"YoB\"].median())\n",
    "data.loc[:, \"gender\"] = data[\"gender\"].fillna(\"unknown\")"
   ]
  },
  {
   "cell_type": "code",
   "execution_count": 10,
   "metadata": {},
   "outputs": [
    {
     "ename": "ModuleNotFoundError",
     "evalue": "No module named 'sklearn'",
     "output_type": "error",
     "traceback": [
      "\u001b[1;31m---------------------------------------------------------------------------\u001b[0m",
      "\u001b[1;31mModuleNotFoundError\u001b[0m                       Traceback (most recent call last)",
      "Cell \u001b[1;32mIn[10], line 7\u001b[0m\n\u001b[0;32m      4\u001b[0m gender_mapping \u001b[38;5;241m=\u001b[39m {\u001b[38;5;124m\"\u001b[39m\u001b[38;5;124mm\u001b[39m\u001b[38;5;124m\"\u001b[39m: \u001b[38;5;241m0\u001b[39m, \u001b[38;5;124m\"\u001b[39m\u001b[38;5;124mf\u001b[39m\u001b[38;5;124m\"\u001b[39m: \u001b[38;5;241m1\u001b[39m, \u001b[38;5;124m\"\u001b[39m\u001b[38;5;124mo\u001b[39m\u001b[38;5;124m\"\u001b[39m: \u001b[38;5;241m2\u001b[39m, \u001b[38;5;124m\"\u001b[39m\u001b[38;5;124munknown\u001b[39m\u001b[38;5;124m\"\u001b[39m: \u001b[38;5;241m3\u001b[39m}\n\u001b[0;32m      5\u001b[0m data[\u001b[38;5;124m\"\u001b[39m\u001b[38;5;124mgender\u001b[39m\u001b[38;5;124m\"\u001b[39m] \u001b[38;5;241m=\u001b[39m data[\u001b[38;5;124m\"\u001b[39m\u001b[38;5;124mgender\u001b[39m\u001b[38;5;124m\"\u001b[39m]\u001b[38;5;241m.\u001b[39mmap(gender_mapping)\n\u001b[1;32m----> 7\u001b[0m \u001b[38;5;28;01mfrom\u001b[39;00m\u001b[38;5;250m \u001b[39m\u001b[38;5;21;01msklearn\u001b[39;00m\u001b[38;5;21;01m.\u001b[39;00m\u001b[38;5;21;01mpreprocessing\u001b[39;00m\u001b[38;5;250m \u001b[39m\u001b[38;5;28;01mimport\u001b[39;00m LabelEncoder\n\u001b[0;32m      9\u001b[0m le_course \u001b[38;5;241m=\u001b[39m LabelEncoder()\n\u001b[0;32m     10\u001b[0m data[\u001b[38;5;124m\"\u001b[39m\u001b[38;5;124mcourse_id_enc\u001b[39m\u001b[38;5;124m\"\u001b[39m] \u001b[38;5;241m=\u001b[39m le_course\u001b[38;5;241m.\u001b[39mfit_transform(data[\u001b[38;5;124m\"\u001b[39m\u001b[38;5;124mcourse_id\u001b[39m\u001b[38;5;124m\"\u001b[39m])\n",
      "\u001b[1;31mModuleNotFoundError\u001b[0m: No module named 'sklearn'"
     ]
    }
   ],
   "source": [
    "education_mapping = {'Less than Secondary': 0, 'Secondary': 1, \"Bachelor's\": 2, \"Master's\": 3, \"Doctorate\": 4}\n",
    "data[\"LoE_DI\"] = data[\"LoE_DI\"].map(education_mapping)\n",
    "\n",
    "gender_mapping = {\"m\": 0, \"f\": 1, \"o\": 2, \"unknown\": 3}\n",
    "data[\"gender\"] = data[\"gender\"].map(gender_mapping)\n",
    "\n",
    "from sklearn.preprocessing import LabelEncoder\n",
    "\n",
    "le_course = LabelEncoder()\n",
    "data[\"course_id_enc\"] = le_course.fit_transform(data[\"course_id\"])"
   ]
  },
  {
   "cell_type": "code",
   "execution_count": null,
   "metadata": {},
   "outputs": [],
   "source": [
    "from sklearn.preprocessing import LabelEncoder\n",
    "\n",
    "# Encode categorical features\n",
    "le_gender = LabelEncoder()\n",
    "le_edu = LabelEncoder()\n",
    "le_field = LabelEncoder()\n",
    "\n",
    "data[\"gender_enc\"] = le_gender.fit_transform(data[\"gender\"])\n",
    "data[\"LoE_DI_enc\"] = le_edu.fit_transform(data[\"LoE_DI\"])\n",
    "data[\"field_of_study_enc\"] = le_field.fit_transform(data[\"field_of_study\"])\n"
   ]
  },
  {
   "cell_type": "code",
   "execution_count": null,
   "metadata": {},
   "outputs": [],
   "source": [
    "from sklearn.model_selection import train_test_split\n",
    "from sklearn.metrics import accuracy_score, classification_report\n",
    "from sklearn.preprocessing import LabelEncoder\n",
    "\n",
    "# ----------------------------\n",
    "# Step 1: Encode `course_id` if not already done\n",
    "# ----------------------------\n",
    "# Check if 'course_id_enc' exists; if not, create it\n",
    "if 'course_id_enc' not in data.columns:\n",
    "    le_course = LabelEncoder()\n",
    "    data['course_id_enc'] = le_course.fit_transform(data['course_id'])\n",
    "\n",
    "X = data[['LoE_DI_enc', 'YoB', 'gender_enc', 'field_of_study_enc']]\n",
    "y = data['course_id_enc']  # Use the encoded course IDs\n",
    "\n",
    "X_train, X_test, y_train, y_test = train_test_split(X, y, test_size=0.2, random_state=42)"
   ]
  },
  {
   "cell_type": "code",
   "execution_count": null,
   "metadata": {},
   "outputs": [
    {
     "ename": "ModuleNotFoundError",
     "evalue": "No module named 'lightgbm'",
     "output_type": "error",
     "traceback": [
      "\u001b[1;31m---------------------------------------------------------------------------\u001b[0m",
      "\u001b[1;31mModuleNotFoundError\u001b[0m                       Traceback (most recent call last)",
      "Cell \u001b[1;32mIn[4], line 2\u001b[0m\n\u001b[0;32m      1\u001b[0m \u001b[38;5;66;03m# LightGBM - fast and high performance\u001b[39;00m\n\u001b[1;32m----> 2\u001b[0m \u001b[38;5;28;01mimport\u001b[39;00m\u001b[38;5;250m \u001b[39m\u001b[38;5;21;01mlightgbm\u001b[39;00m\u001b[38;5;250m \u001b[39m\u001b[38;5;28;01mas\u001b[39;00m\u001b[38;5;250m \u001b[39m\u001b[38;5;21;01mlgb\u001b[39;00m\n\u001b[0;32m      4\u001b[0m \u001b[38;5;66;03m# Create the model\u001b[39;00m\n\u001b[0;32m      5\u001b[0m lgb_model \u001b[38;5;241m=\u001b[39m lgb\u001b[38;5;241m.\u001b[39mLGBMClassifier(\n\u001b[0;32m      6\u001b[0m     boosting_type\u001b[38;5;241m=\u001b[39m\u001b[38;5;124m'\u001b[39m\u001b[38;5;124mgbdt\u001b[39m\u001b[38;5;124m'\u001b[39m,\n\u001b[0;32m      7\u001b[0m     num_leaves\u001b[38;5;241m=\u001b[39m\u001b[38;5;241m31\u001b[39m,\n\u001b[1;32m   (...)\u001b[0m\n\u001b[0;32m     11\u001b[0m     random_state\u001b[38;5;241m=\u001b[39m\u001b[38;5;241m42\u001b[39m\n\u001b[0;32m     12\u001b[0m )\n",
      "\u001b[1;31mModuleNotFoundError\u001b[0m: No module named 'lightgbm'"
     ]
    }
   ],
   "source": [
    "# LightGBM - fast and high performance\n",
    "import lightgbm as lgb\n",
    "\n",
    "# Create the model\n",
    "lgb_model = lgb.LGBMClassifier(\n",
    "    boosting_type='gbdt',\n",
    "    num_leaves=31,\n",
    "    max_depth=-1,\n",
    "    learning_rate=0.1,\n",
    "    n_estimators=300,\n",
    "    random_state=42\n",
    ")\n",
    "\n",
    "# Train\n",
    "lgb_model.fit(X_train, y_train)\n",
    "\n",
    "# Evaluate\n",
    "y_pred = lgb_model.predict(X_test)\n",
    "print(f\"LightGBM Accuracy: {accuracy_score(y_test, y_pred):.4f}\")"
   ]
  },
  {
   "cell_type": "code",
   "execution_count": null,
   "metadata": {},
   "outputs": [],
   "source": []
  }
 ],
 "metadata": {
  "kernelspec": {
   "display_name": ".venv",
   "language": "python",
   "name": "python3"
  },
  "language_info": {
   "codemirror_mode": {
    "name": "ipython",
    "version": 3
   },
   "file_extension": ".py",
   "mimetype": "text/x-python",
   "name": "python",
   "nbconvert_exporter": "python",
   "pygments_lexer": "ipython3",
   "version": "3.12.5"
  }
 },
 "nbformat": 4,
 "nbformat_minor": 2
}
